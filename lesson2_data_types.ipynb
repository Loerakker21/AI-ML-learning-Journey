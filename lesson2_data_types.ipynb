{
 "cells": [
  {
   "cell_type": "code",
   "execution_count": 16,
   "id": "32f5dafd-cdcb-4deb-975c-cc5e19be259b",
   "metadata": {},
   "outputs": [],
   "source": [
    "age = 35"
   ]
  },
  {
   "cell_type": "code",
   "execution_count": 18,
   "id": "803c07d9-0971-4d4b-9fff-5d32c321409d",
   "metadata": {},
   "outputs": [],
   "source": [
    "name = \"Shae Loerakker\""
   ]
  },
  {
   "cell_type": "code",
   "execution_count": 24,
   "id": "3cd4c79f-31e4-45af-b83e-fc3d2f48d0f3",
   "metadata": {},
   "outputs": [
    {
     "name": "stdout",
     "output_type": "stream",
     "text": [
      "hello, my name is Shae Loerakker and I am 35\n"
     ]
    }
   ],
   "source": [
    "print(\"hello, my name is\", name , \"and I am\", age,)"
   ]
  },
  {
   "cell_type": "code",
   "execution_count": 26,
   "id": "76aa324f-450a-4d6d-9ad7-86e10de774f5",
   "metadata": {},
   "outputs": [
    {
     "name": "stdout",
     "output_type": "stream",
     "text": [
      "next year I will be 36\n"
     ]
    }
   ],
   "source": [
    "print(\"next year I will be \" +str(age + 1))"
   ]
  },
  {
   "cell_type": "code",
   "execution_count": null,
   "id": "f39aa50c-19cb-4a9f-a998-7a2ad09cbc13",
   "metadata": {},
   "outputs": [],
   "source": []
  }
 ],
 "metadata": {
  "kernelspec": {
   "display_name": "anaconda-panel-2023.05-py310",
   "language": "python",
   "name": "conda-env-anaconda-panel-2023.05-py310-py"
  },
  "language_info": {
   "codemirror_mode": {
    "name": "ipython",
    "version": 3
   },
   "file_extension": ".py",
   "mimetype": "text/x-python",
   "name": "python",
   "nbconvert_exporter": "python",
   "pygments_lexer": "ipython3",
   "version": "3.11.5"
  }
 },
 "nbformat": 4,
 "nbformat_minor": 5
}
